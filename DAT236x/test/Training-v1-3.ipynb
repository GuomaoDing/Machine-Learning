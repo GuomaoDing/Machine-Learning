{
 "cells": [
  {
   "cell_type": "code",
   "execution_count": 1,
   "metadata": {},
   "outputs": [],
   "source": [
    "from __future__ import print_function # Use a function definition from future version (say 3.x from 2.7 interpreter)\n",
    "import matplotlib.image as mpimg\n",
    "import matplotlib.pyplot as plt\n",
    "import numpy as np\n",
    "import os\n",
    "import sys\n",
    "import time\n",
    "\n",
    "import cntk as C\n",
    "\n",
    "%matplotlib inline"
   ]
  },
  {
   "cell_type": "code",
   "execution_count": 2,
   "metadata": {},
   "outputs": [],
   "source": [
    "if 'TEST_DEVICE' in os.environ:\n",
    "    if os.environ['TEST_DEVICE'] == 'cpu':\n",
    "        C.device.try_set_default_device(C.device.cpu())\n",
    "        print(\"Using CPU\")\n",
    "    else:\n",
    "        C.device.try_set_default_device(C.device.gpu(0))\n",
    "        print(\"Using GPU\")"
   ]
  },
  {
   "cell_type": "code",
   "execution_count": 3,
   "metadata": {},
   "outputs": [
    {
     "data": {
      "text/plain": [
       "True"
      ]
     },
     "execution_count": 3,
     "metadata": {},
     "output_type": "execute_result"
    }
   ],
   "source": [
    "C.device.try_set_default_device(C.device.gpu(0))"
   ]
  },
  {
   "cell_type": "markdown",
   "metadata": {},
   "source": [
    "## Data reading"
   ]
  },
  {
   "cell_type": "code",
   "execution_count": 4,
   "metadata": {},
   "outputs": [],
   "source": [
    "# Ensure we always get the same amount of randomness\n",
    "np.random.seed(0)\n",
    "C.cntk_py.set_fixed_random_seed(1)\n",
    "C.cntk_py.force_deterministic_algorithms()\n",
    "\n",
    "# Define the data dimensions\n",
    "input_dim_model = (1, 64, 64)    # images are 64 x 64 with 1 channel of color (gray)\n",
    "input_dim = 64*64                # used by readers to treat input data as a vector\n",
    "num_output_classes = 4"
   ]
  },
  {
   "cell_type": "code",
   "execution_count": 5,
   "metadata": {},
   "outputs": [],
   "source": [
    "# Read a CTF formatted text (as mentioned above) using the CTF deserializer from a file\n",
    "def create_reader(path, is_training, input_dim, num_label_classes):\n",
    "    \n",
    "    ctf = C.io.CTFDeserializer(path, C.io.StreamDefs(\n",
    "          labels=C.io.StreamDef(field='labels', shape=num_label_classes, is_sparse=False),\n",
    "          features=C.io.StreamDef(field='features', shape=input_dim, is_sparse=False)))\n",
    "                          \n",
    "    return C.io.MinibatchSource(ctf,\n",
    "        randomize = is_training, max_sweeps = C.io.INFINITELY_REPEAT if is_training else 1)"
   ]
  },
  {
   "cell_type": "code",
   "execution_count": 102,
   "metadata": {},
   "outputs": [],
   "source": [
    "data_dir = \"data\"\n",
    "train_file=os.path.join(data_dir, \"Train-64x64x15000_cntk_text.txt\")\n",
    "test_file=os.path.join(data_dir, \"Test-64x64x5000_cntk_text.txt\")\n",
    "#train_file=os.path.join(data_dir, \"Train-64x64x80000_20180718_095800.txt\")\n",
    "#test_file=os.path.join(data_dir, \"Test-64x64x20000_20180718_095800.txt\")\n"
   ]
  },
  {
   "cell_type": "markdown",
   "metadata": {},
   "source": [
    "## CNN Model Creation"
   ]
  },
  {
   "cell_type": "code",
   "execution_count": 7,
   "metadata": {},
   "outputs": [
    {
     "name": "stdout",
     "output_type": "stream",
     "text": [
      "x:  Input('Input3', [#], [1 x 64 x 64])\n",
      "y: Input('Input4', [#], [4])\n"
     ]
    }
   ],
   "source": [
    "x = C.input_variable(input_dim_model)\n",
    "y = C.input_variable(num_output_classes)\n",
    "print('x: ', x)\n",
    "print('y:', y)"
   ]
  },
  {
   "cell_type": "markdown",
   "metadata": {},
   "source": [
    "# function to build model\n",
    "\n",
    "def create_model_lr(features):\n",
    "    with C.layers.default_options(init = C.glorot_uniform()):\n",
    "        r = C.layers.Dense(num_output_classes, activation = None)(features)\n",
    "        return r\n",
    "\n",
    "num_hidden_layers = 2\n",
    "hidden_layers_dim = 400\n",
    "def create_model_mlp(features):\n",
    "    with C.layers.default_options(init = C.layers.glorot_uniform(), activation = C.ops.relu):\n",
    "            h = features\n",
    "            for _ in range(num_hidden_layers):\n",
    "                h = C.layers.Dense(hidden_layers_dim)(h)\n",
    "            r = C.layers.Dense(num_output_classes, activation = None)(h)\n",
    "            #r = C.layers.Dense(num_output_classes, activation = C.ops.sigmoid)(h)\n",
    "            return r    \n",
    "    \n",
    "def create_model_cnn1(features):\n",
    "    with C.layers.default_options(init=C.glorot_uniform(), activation=C.relu):\n",
    "            h = features\n",
    "            h = C.layers.Convolution2D(filter_shape=(5,5), \n",
    "                                       num_filters=8, \n",
    "                                       strides=(2,2), \n",
    "                                       pad=True, name='first_conv')(h)\n",
    "            h = C.layers.Convolution2D(filter_shape=(5,5), \n",
    "                                       num_filters=16, \n",
    "                                       strides=(2,2), \n",
    "                                       pad=True, name='second_conv')(h)\n",
    "            r = C.layers.Dense(num_output_classes, activation=None, name='classify')(h)\n",
    "            return r\n",
    "        \n",
    "def create_model_v1(features):\n",
    "    with C.layers.default_options(init=C.glorot_uniform(), activation=C.relu):\n",
    "            h = features\n",
    "            h = C.layers.Convolution2D(filter_shape=(5,5), \n",
    "                                       num_filters=8, \n",
    "                                       strides=(2,2), \n",
    "                                       pad=True, name='conv1')(h)\n",
    "#            h = C.layers.AveragePooling((5,5), strides=(2,2))(h)\n",
    "#            h = C.layers.Convolution2D(filter_shape=(5,5), \n",
    "#                                       num_filters=16, \n",
    "#                                       strides=(1,1),\n",
    "#                                       pad=True, name='conv2')(h)\n",
    "#            h = C.layers.AveragePooling((5,5), strides=(2,2))(h)\n",
    "            r = C.layers.Dense(num_output_classes, activation=None, name='classify')(h)\n",
    "            return r\n",
    "    \n",
    "def create_model_v1_1(features):\n",
    "    with C.layers.default_options(init = C.layers.glorot_uniform(), activation = C.relu):\n",
    "            h = features\n",
    "\n",
    "            h = C.layers.Convolution2D(filter_shape=(5,5),\n",
    "                                       num_filters=8,\n",
    "                                       strides=(1,1),\n",
    "                                       pad=True, name=\"conv1\")(h)\n",
    "            h = C.layers.MaxPooling(filter_shape=(2,2),\n",
    "                                    strides=(2,2), name=\"max1\")(h)\n",
    "            h = C.layers.Convolution2D(filter_shape=(5,5),\n",
    "                                       num_filters=16,\n",
    "                                       strides=(1,1),\n",
    "                                       pad=True, name=\"conv2\")(h)\n",
    "            h = C.layers.MaxPooling(filter_shape=(3,3),\n",
    "                                    strides=(3,3), name=\"max2\")(h)\n",
    "            r = C.layers.Dense(num_output_classes, activation = None, name=\"classify\")(h)\n",
    "            return r\n"
   ]
  },
  {
   "cell_type": "markdown",
   "metadata": {},
   "source": [
    "def create_model_v1_2(features):\n",
    "    with C.layers.default_options(init = C.layers.glorot_uniform(), activation = C.relu):\n",
    "            h = features\n",
    "\n",
    "            h = C.layers.Convolution2D(filter_shape=(5,5),\n",
    "                                       num_filters=8,\n",
    "                                       strides=(1,1),\n",
    "                                       pad=True, name=\"conv1\")(h)\n",
    "            h = C.layers.MaxPooling(filter_shape=(2,2),\n",
    "                                    strides=(2,2), name=\"max1\")(h)\n",
    "            h = C.layers.Convolution2D(filter_shape=(5,5),\n",
    "                                       num_filters=16,\n",
    "                                       strides=(1,1),\n",
    "                                       pad=True, name=\"conv2\")(h)\n",
    "            h = C.layers.MaxPooling(filter_shape=(3,3),\n",
    "                                    strides=(3,3), name=\"max2\")(h)\n",
    "            h = C.layers.Convolution2D(filter_shape=(5,5),\n",
    "                                       num_filters=32,\n",
    "                                       strides=(1,1),\n",
    "                                       pad=True, name=\"conv3\")(h)\n",
    "            h = C.layers.MaxPooling(filter_shape=(4,4),\n",
    "                                    strides=(4,4), name=\"max3\")(h)\n",
    "            r = C.layers.Dense(num_output_classes, activation = None, name=\"classify\")(h)\n",
    "            return r\n"
   ]
  },
  {
   "cell_type": "markdown",
   "metadata": {},
   "source": [
    "def create_model_v1_3(features):\n",
    "    with C.layers.default_options(init = C.layers.glorot_uniform(), activation = C.relu):\n",
    "            h = features\n",
    "\n",
    "            h = C.layers.Convolution2D(filter_shape=(5,5),\n",
    "                                       num_filters=8,\n",
    "                                       strides=(1,1),\n",
    "                                       pad=True, name=\"conv1\")(h)\n",
    "            h = C.layers.Convolution2D(filter_shape=(5,5),\n",
    "                                       num_filters=16,\n",
    "                                       strides=(1,1),\n",
    "                                       pad=True, name=\"conv2\")(h)\n",
    "            h = C.layers.MaxPooling(filter_shape=(2,2),\n",
    "                                    strides=(2,2), name=\"max1\")(h)\n",
    "            h = C.layers.Convolution2D(filter_shape=(5,5),\n",
    "                                       num_filters=32,\n",
    "                                       strides=(1,1),\n",
    "                                       pad=True, name=\"conv3\")(h)\n",
    "            h = C.layers.Convolution2D(filter_shape=(5,5),\n",
    "                                       num_filters=64,\n",
    "                                       strides=(1,1),\n",
    "                                       pad=True, name=\"conv4\")(h)\n",
    "            h = C.layers.MaxPooling(filter_shape=(3,3),\n",
    "                                    strides=(3,3), name=\"max2\")(h)\n",
    "            h = C.layers.Convolution2D(filter_shape=(5,5),\n",
    "                                       num_filters=128,\n",
    "                                       strides=(1,1),\n",
    "                                       pad=True, name=\"conv5\")(h)\n",
    "            h = C.layers.Convolution2D(filter_shape=(5,5),\n",
    "                                       num_filters=256,\n",
    "                                       strides=(1,1),\n",
    "                                       pad=True, name='conv6')(h)\n",
    "            h = C.layers.MaxPooling(filter_shape=(4,4),\n",
    "                                    strides=(4,4), name=\"max3\")(h)\n",
    "            r = C.layers.Dense(num_output_classes, activation = None, name=\"classify\")(h)\n",
    "            return r"
   ]
  },
  {
   "cell_type": "code",
   "execution_count": 51,
   "metadata": {},
   "outputs": [],
   "source": [
    "def create_model(features):\n",
    "    with C.layers.default_options(init = C.layers.glorot_uniform(), activation = C.relu):\n",
    "            h = features\n",
    "\n",
    "            h = C.layers.Convolution2D(filter_shape=(5,5),\n",
    "                                        num_filters=32,\n",
    "                                        strides=(1,1),\n",
    "                                        pad=True, name=\"conv1\")(h)\n",
    "            h = C.layers.MaxPooling(filter_shape=(2,2),\n",
    "                                        strides=(2,2), name=\"max1\")(h)\n",
    "            h = C.layers.Convolution2D(filter_shape=(5,5),\n",
    "                                        num_filters=64,\n",
    "                                        strides=(1,1),\n",
    "                                        pad=True, name=\"conv2\")(h)\n",
    "            h = C.layers.MaxPooling(filter_shape=(3,3),\n",
    "                                        strides=(3,3), name=\"max2\")(h)\n",
    "            h = C.layers.Dense(1024, activation = C.relu, name=\"fc1\")(h)\n",
    "            h = C.layers.Dropout(0.0)(h)\n",
    "            r = C.layers.Dense(num_output_classes, activation = None, name=\"classify\")(h)\n",
    "            return r\n"
   ]
  },
  {
   "cell_type": "code",
   "execution_count": 37,
   "metadata": {},
   "outputs": [],
   "source": [
    "# Scale the input to 0-1 range by dividing each pixel by 255.\n",
    "#input_s = input/255\n",
    "\n",
    "# used for LR model\n",
    "#input_s = C.splice(x/255, C.square(x/255), C.sqrt(x/255))\n",
    "#z = create_model(input_s)\n",
    "#np.shape(input_s)\n",
    "\n",
    "# used for MLP model\n",
    "#z = create_model(x/255.0)"
   ]
  },
  {
   "cell_type": "code",
   "execution_count": 52,
   "metadata": {},
   "outputs": [
    {
     "name": "stdout",
     "output_type": "stream",
     "text": [
      "Output Shape of conv1: (32, 64, 64)\n",
      "Output Shape of max1: (32, 32, 32)\n",
      "Output Shape of conv2: (64, 32, 32)\n",
      "Output Shape of max2: (64, 10, 10)\n",
      "Output Shape of fc1: (1024,)\n",
      "Output Shape of the dense output layer: (4,)\n",
      "Bias value of the last dense layer: [0. 0. 0. 0.]\n"
     ]
    }
   ],
   "source": [
    "# Create the model\n",
    "z = create_model(x)\n",
    "\n",
    "# Print the output shapes / parameters of different components\n",
    "print(\"Output Shape of conv1:\", z.conv1.shape)\n",
    "print(\"Output Shape of max1:\", z.max1.shape)\n",
    "print(\"Output Shape of conv2:\", z.conv2.shape)\n",
    "print(\"Output Shape of max2:\", z.max2.shape)\n",
    "print(\"Output Shape of fc1:\", z.fc1.shape)\n",
    "#print(\"Output Shape of conv3:\", z.conv3.shape)\n",
    "#print(\"Output Shape of conv4:\", z.conv4.shape)\n",
    "#print(\"Output Shape of conv5:\", z.conv5.shape)\n",
    "#print(\"Output Shape of conv6:\", z.conv6.shape)\n",
    "print(\"Output Shape of the dense output layer:\", z.classify.shape)\n",
    "print(\"Bias value of the last dense layer:\", z.classify.b.value)"
   ]
  },
  {
   "cell_type": "code",
   "execution_count": 53,
   "metadata": {},
   "outputs": [
    {
     "name": "stdout",
     "output_type": "stream",
     "text": [
      "Training 6610820 parameters in 8 parameter tensors.\n"
     ]
    }
   ],
   "source": [
    "# Number of parameters in the network\n",
    "C.logging.log_number_of_parameters(z)"
   ]
  },
  {
   "cell_type": "markdown",
   "metadata": {},
   "source": [
    "## Training"
   ]
  },
  {
   "cell_type": "code",
   "execution_count": 54,
   "metadata": {},
   "outputs": [],
   "source": [
    "def create_criterion_function(model, labels):\n",
    "    loss = C.cross_entropy_with_softmax(model, labels)\n",
    "    errs = C.classification_error(model, labels)\n",
    "    return loss, errs # (model, labels) -> (loss, error metric)"
   ]
  },
  {
   "cell_type": "code",
   "execution_count": 55,
   "metadata": {},
   "outputs": [],
   "source": [
    "# Define a utility function to compute the moving average sum.\n",
    "# A more efficient implementation is possible with np.cumsum() function\n",
    "def moving_average(a, w=5):\n",
    "    if len(a) < w:\n",
    "        return a[:]    # Need to send a copy of the array\n",
    "    return [val if idx < w else sum(a[(idx-w):idx])/w for idx, val in enumerate(a)]\n",
    "\n",
    "\n",
    "# Defines a utility that prints the training progress\n",
    "def print_training_progress(trainer, mb, frequency, verbose=1):\n",
    "    training_loss = \"NA\"\n",
    "    eval_error = \"NA\"\n",
    "\n",
    "    if mb%frequency == 0:\n",
    "        training_loss = trainer.previous_minibatch_loss_average\n",
    "        eval_error = trainer.previous_minibatch_evaluation_average\n",
    "        if verbose: \n",
    "            print (\"Minibatch: {0}, Loss: {1:.4f}, Error: {2:.2f}%\".format(mb, training_loss, eval_error*100))\n",
    "        \n",
    "    return mb, training_loss, eval_error"
   ]
  },
  {
   "cell_type": "code",
   "execution_count": 103,
   "metadata": {},
   "outputs": [],
   "source": [
    "def train_test(train_reader, test_reader, model_func, num_sweeps_to_train_with=10):\n",
    "    \n",
    "    # Instantiate the model function; x is the input (feature) variable \n",
    "    # We will scale the input image pixels within 0-1 range by dividing all input value by 255.\n",
    "    model = model_func(x/255)\n",
    "    \n",
    "    # Instantiate the loss and error function\n",
    "    loss, label_error = create_criterion_function(model, y)\n",
    "    \n",
    "    # Instantiate the trainer object to drive the model training\n",
    "    learning_rate = 0.1\n",
    "    lr_schedule = C.learning_rate_schedule(learning_rate, C.UnitType.minibatch)\n",
    "    learner = C.sgd(z.parameters, lr_schedule)\n",
    "    trainer = C.Trainer(z, (loss, label_error), [learner])\n",
    "    \n",
    "    # Initialize the parameters for the trainer\n",
    "    minibatch_size = 64\n",
    "    num_samples_per_sweep = 15000\n",
    "    num_minibatches_to_train = (num_samples_per_sweep * num_sweeps_to_train_with) / minibatch_size\n",
    "    \n",
    "    # Map the data streams to the input and labels.\n",
    "    input_map={\n",
    "        y  : train_reader.streams.labels,\n",
    "        x  : train_reader.streams.features\n",
    "    } \n",
    "    \n",
    "    # Uncomment below for more detailed logging\n",
    "    training_progress_output_freq = 250\n",
    "     \n",
    "    # Start a timer\n",
    "    start = time.time()\n",
    "\n",
    "    for i in range(0, int(num_minibatches_to_train)):\n",
    "        # Read a mini batch from the training data file\n",
    "        data=train_reader.next_minibatch(minibatch_size, input_map=input_map) \n",
    "        trainer.train_minibatch(data)\n",
    "        print_training_progress(trainer, i, training_progress_output_freq, verbose=1)\n",
    "     \n",
    "    # Print training time\n",
    "    print(\"Training took {:.1f} sec\".format(time.time() - start))\n",
    "    \n",
    "    # Test the model\n",
    "    test_input_map = {\n",
    "        y  : test_reader.streams.labels,\n",
    "        x  : test_reader.streams.features\n",
    "    }\n",
    "\n",
    "    # Test data for trained model\n",
    "    test_minibatch_size = 250\n",
    "    num_samples = 5000\n",
    "    num_minibatches_to_test = num_samples // test_minibatch_size\n",
    "\n",
    "    test_result = 0.0   \n",
    "\n",
    "    for i in range(num_minibatches_to_test):\n",
    "    \n",
    "        # We are loading test data in batches specified by test_minibatch_size\n",
    "        # Each data point in the minibatch is a MNIST digit image of 784 dimensions \n",
    "        # with one pixel per dimension that we will encode / decode with the \n",
    "        # trained model.\n",
    "        data = test_reader.next_minibatch(test_minibatch_size, input_map=test_input_map)\n",
    "        eval_error = trainer.test_minibatch(data)\n",
    "        test_result = test_result + eval_error\n",
    "\n",
    "    # Average of evaluation errors of all test minibatches\n",
    "    print(\"Average test error: {0:.2f}%\".format(test_result*100 / num_minibatches_to_test))"
   ]
  },
  {
   "cell_type": "markdown",
   "metadata": {},
   "source": [
    "### Run training"
   ]
  },
  {
   "cell_type": "code",
   "execution_count": 104,
   "metadata": {},
   "outputs": [
    {
     "name": "stdout",
     "output_type": "stream",
     "text": [
      "Minibatch: 0, Loss: 1.4072, Error: 75.00%\n",
      "Minibatch: 250, Loss: 0.4135, Error: 12.50%\n",
      "Minibatch: 500, Loss: 0.1362, Error: 6.25%\n",
      "Minibatch: 750, Loss: 0.0185, Error: 0.00%\n",
      "Minibatch: 1000, Loss: 0.0161, Error: 0.00%\n",
      "Minibatch: 1250, Loss: 0.0180, Error: 0.00%\n",
      "Minibatch: 1500, Loss: 0.0230, Error: 1.56%\n",
      "Minibatch: 1750, Loss: 0.0028, Error: 0.00%\n",
      "Minibatch: 2000, Loss: 0.0030, Error: 0.00%\n",
      "Minibatch: 2250, Loss: 0.0195, Error: 1.56%\n",
      "Training took 71.6 sec\n",
      "Average test error: 0.46%\n"
     ]
    }
   ],
   "source": [
    "def do_train_test():\n",
    "    global z\n",
    "    z = create_model(x)\n",
    "    reader_train = create_reader(train_file, True, input_dim, num_output_classes)\n",
    "    reader_test = create_reader(test_file, False, input_dim, num_output_classes)\n",
    "    train_test(reader_train, reader_test, z)\n",
    "    \n",
    "do_train_test()"
   ]
  },
  {
   "cell_type": "code",
   "execution_count": 105,
   "metadata": {
    "scrolled": true
   },
   "outputs": [
    {
     "name": "stdout",
     "output_type": "stream",
     "text": [
      "Bias value of the last dense layer: [ 0.09998371 -0.06732555 -0.00011704 -0.03254468]\n"
     ]
    }
   ],
   "source": [
    "#only used for CNN model\n",
    "print(\"Bias value of the last dense layer:\", z.classify.b.value)"
   ]
  },
  {
   "cell_type": "markdown",
   "metadata": {},
   "source": [
    "## Evaluation"
   ]
  },
  {
   "cell_type": "code",
   "execution_count": 106,
   "metadata": {},
   "outputs": [],
   "source": [
    "out = C.softmax(z)"
   ]
  },
  {
   "cell_type": "code",
   "execution_count": 107,
   "metadata": {},
   "outputs": [],
   "source": [
    "# Read the data for evaluation\n",
    "reader_eval=create_reader(test_file, False, input_dim, num_output_classes)\n",
    "\n",
    "eval_minibatch_size = 5000\n",
    "eval_input_map = {x: reader_eval.streams.features, y:reader_eval.streams.labels} \n",
    "\n",
    "data = reader_eval.next_minibatch(eval_minibatch_size, input_map=eval_input_map)\n",
    "\n",
    "img_label = data[y].asarray()\n",
    "img_data = data[x].asarray()\n",
    "\n",
    "# reshape img_data to: M x 1 x 64 x 64 to be compatible with model\n",
    "img_data = np.reshape(img_data, (eval_minibatch_size, 1, 64, 64))\n",
    "\n",
    "predicted_label_prob = [out.eval(img_data[i]) for i in range(len(img_data))]"
   ]
  },
  {
   "cell_type": "code",
   "execution_count": 108,
   "metadata": {},
   "outputs": [
    {
     "name": "stdout",
     "output_type": "stream",
     "text": [
      "Count:  41\n",
      "Error:  0.0082\n"
     ]
    }
   ],
   "source": [
    "# Find the index with the maximum value for both predicted as well as the ground truth\n",
    "pred = [np.argmax(predicted_label_prob[i]) for i in range(len(predicted_label_prob))]\n",
    "gtlabel = [np.argmax(img_label[i]) for i in range(len(img_label))]\n",
    "#print(\"Label    :\", gtlabel[:5000])\n",
    "#print(\"Predicted:\", pred)\n",
    "\n",
    "count = 0\n",
    "for i in range(len(pred)):\n",
    "    if pred[i] != gtlabel[i]:\n",
    "        count += 1\n",
    "print(\"Count: \", count)\n",
    "print(\"Error: \", count / len(pred))"
   ]
  },
  {
   "cell_type": "markdown",
   "metadata": {},
   "source": [
    "## Submission"
   ]
  },
  {
   "cell_type": "code",
   "execution_count": 300,
   "metadata": {},
   "outputs": [],
   "source": [
    "from PIL import Image\n",
    "def loadImage(filename):\n",
    "    img = Image.open(filename)\n",
    "    pixels = img.load()\n",
    "    img_data = ''\n",
    "    for i in range(img.size[0]):    # for every col:\n",
    "        for j in range(img.size[1]):    # For every row\n",
    "            img_data = img_data + ' ' + str(pixels[i,j])\n",
    "    return img_data"
   ]
  },
  {
   "cell_type": "code",
   "execution_count": 93,
   "metadata": {},
   "outputs": [
    {
     "name": "stdout",
     "output_type": "stream",
     "text": [
      "Reading files...\n"
     ]
    },
    {
     "name": "stderr",
     "output_type": "stream",
     "text": [
      "C:\\Anaconda\\lib\\site-packages\\cntk\\core.py:350: FutureWarning: Conversion of the second argument of issubdtype from `int` to `np.signedinteger` is deprecated. In future, it will be treated as `np.int32 == np.dtype(int).type`.\n",
      "  elif np.issubdtype(sample.dtype, int):\n",
      "C:\\Anaconda\\lib\\site-packages\\cntk\\core.py:361: UserWarning: your data is of type \"int32\", but your input variable (uid \"Input3\") expects \"<class 'numpy.float32'>\". Please convert your data beforehand to speed up training.\n",
      "  (sample.dtype, var.uid, str(var.dtype)))\n"
     ]
    },
    {
     "name": "stdout",
     "output_type": "stream",
     "text": [
      "Saving data/Eval-v1-3_20180718_233202.txt\n",
      "File save complete.\n",
      "Wall time: 45.3 s\n"
     ]
    }
   ],
   "source": [
    "%%time\n",
    "import os\n",
    "from PIL import Image\n",
    "test_dir = 'data/test'\n",
    "test_files = os.listdir(test_dir)\n",
    "label = '0 0 0 0'\n",
    "feature = ''\n",
    "output = []\n",
    "print(\"Reading files...\")\n",
    "for file in test_files:\n",
    "    img = Image.open(test_dir + '/' + file)\n",
    "    img_data = np.array(img.getdata())\n",
    "    img_data = np.reshape(img_data, (1, 1, 64, 64))\n",
    "    predict_result = out.eval(img_data)\n",
    "    orientation = [np.argmax(predict_result[i]) for i in range(len(predict_result))]\n",
    "    id = file[:file.index('.')]\n",
    "    output.append('{},{}\\n'.format(id, orientation[0]))\n",
    "\n",
    "import time\n",
    "import datetime\n",
    "filename = 'data/Eval-v1-3_' + datetime.datetime.fromtimestamp(time.time()).strftime('%Y%m%d_%H%M%S') + '.txt'\n",
    "if not os.path.isfile(filename):\n",
    "    print(\"Saving\", filename )\n",
    "    with open(filename, 'w') as f:\n",
    "        for row in output:\n",
    "            f.write(row)\n",
    "    print(\"File save complete.\")\n",
    "else:\n",
    "    print(\"File already exists\", filename)"
   ]
  },
  {
   "cell_type": "code",
   "execution_count": null,
   "metadata": {},
   "outputs": [],
   "source": []
  }
 ],
 "metadata": {
  "kernelspec": {
   "display_name": "Python [default]",
   "language": "python",
   "name": "python3"
  },
  "language_info": {
   "codemirror_mode": {
    "name": "ipython",
    "version": 3
   },
   "file_extension": ".py",
   "mimetype": "text/x-python",
   "name": "python",
   "nbconvert_exporter": "python",
   "pygments_lexer": "ipython3",
   "version": "3.6.4"
  }
 },
 "nbformat": 4,
 "nbformat_minor": 2
}
