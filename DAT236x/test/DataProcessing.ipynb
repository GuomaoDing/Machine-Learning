{
 "cells": [
  {
   "cell_type": "code",
   "execution_count": 1,
   "metadata": {},
   "outputs": [],
   "source": [
    "%%time\n",
    "# Import the relevant modules to be used later\n",
    "from __future__ import print_function\n",
    "import gzip\n",
    "import matplotlib.image as mpimg\n",
    "import matplotlib.pyplot as plt\n",
    "import numpy as np\n",
    "import os\n",
    "import shutil\n",
    "import struct\n",
    "import sys\n",
    "\n",
    "try: \n",
    "    from urllib.request import urlretrieve \n",
    "except ImportError: \n",
    "    from urllib import urlretrieve\n",
    "\n",
    "# Config matplotlib for inline plotting\n",
    "%matplotlib inline"
   ]
  },
  {
   "cell_type": "markdown",
   "metadata": {},
   "source": [
    "**Data Prep**\n",
    "- Load labels and read 64x64 image files into pixel data"
   ]
  },
  {
   "cell_type": "code",
   "execution_count": 64,
   "metadata": {},
   "outputs": [],
   "source": [
    "from PIL import Image\n",
    "def loadImage(name):\n",
    "    filename = \"data/train/\" + name + \".png\"\n",
    "    img = Image.open(filename)\n",
    "    pixels = img.load()\n",
    "    img_data = ''\n",
    "    for i in range(img.size[0]):    # for every col:\n",
    "        for j in range(img.size[1]):    # For every row\n",
    "            img_data = img_data + ' ' + str(pixels[i,j])\n",
    "    return img_data\n"
   ]
  },
  {
   "cell_type": "code",
   "execution_count": 65,
   "metadata": {
    "scrolled": true
   },
   "outputs": [
    {
     "name": "stdout",
     "output_type": "stream",
     "text": [
      "Saving data/Train-64x64x20000_20180717_230207.txt\n",
      "File save complete.\n",
      "Wall time: 1min 50s\n"
     ]
    }
   ],
   "source": [
    "%%time\n",
    "#if os.path.isfile(\"data/train_labels.csv\")\n",
    "import csv\n",
    "count = 0\n",
    "larray = ['1 0 0 0', '0 1 0 0', '0 0 1 0', '0 0 0 1']\n",
    "label = ''\n",
    "feature = ''\n",
    "output = []\n",
    "with open('data/train_labels.csv', 'r') as csvfile:\n",
    "    reader = csv.reader(csvfile, delimiter=',', quotechar='|')\n",
    "    for row in reader:\n",
    "        if count > 0:\n",
    "            #output = '({0}) file: {1} label: {2}'.format(count, row[0], row[1]) + ' onehot: ' + larray[int(row[1])-1] + '\\n'\n",
    "            label = larray[int(row[1])-1]\n",
    "            feature = loadImage(row[0])\n",
    "            output.append('|labels {} |features {}\\n'.format(label, feature))\n",
    "        count = count + 1\n",
    "\n",
    "import time\n",
    "import datetime\n",
    "filename = 'data/Train-64x64x20000_' + datetime.datetime.fromtimestamp(time.time()).strftime('%Y%m%d_%H%M%S') + '.txt'\n",
    "if not os.path.isfile(filename):\n",
    "    print(\"Saving\", filename )\n",
    "    with open(filename, 'w') as f:\n",
    "        for row in output:\n",
    "            f.write(row)\n",
    "    print(\"File save complete.\")\n",
    "else:\n",
    "    print(\"File already exists\", filename)"
   ]
  },
  {
   "cell_type": "code",
   "execution_count": 62,
   "metadata": {},
   "outputs": [
    {
     "name": "stdout",
     "output_type": "stream",
     "text": [
      "20180717_224608\n"
     ]
    }
   ],
   "source": [
    "import time\n",
    "import datetime\n",
    "st = datetime.datetime.fromtimestamp(time.time()).strftime('%Y%m%d_%H%M%S')\n",
    "print(st)"
   ]
  },
  {
   "cell_type": "code",
   "execution_count": null,
   "metadata": {},
   "outputs": [],
   "source": []
  }
 ],
 "metadata": {
  "kernelspec": {
   "display_name": "Python [default]",
   "language": "python",
   "name": "python3"
  },
  "language_info": {
   "codemirror_mode": {
    "name": "ipython",
    "version": 3
   },
   "file_extension": ".py",
   "mimetype": "text/x-python",
   "name": "python",
   "nbconvert_exporter": "python",
   "pygments_lexer": "ipython3",
   "version": "3.6.4"
  }
 },
 "nbformat": 4,
 "nbformat_minor": 2
}
