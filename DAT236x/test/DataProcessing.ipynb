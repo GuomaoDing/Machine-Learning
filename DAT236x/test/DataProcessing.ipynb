{
 "cells": [
  {
   "cell_type": "code",
   "execution_count": 4,
   "metadata": {},
   "outputs": [
    {
     "name": "stdout",
     "output_type": "stream",
     "text": [
      "Wall time: 291 ms\n"
     ]
    }
   ],
   "source": [
    "%%time\n",
    "# Import the relevant modules to be used later\n",
    "from __future__ import print_function\n",
    "import gzip\n",
    "import matplotlib.image as mpimg\n",
    "import matplotlib.pyplot as plt\n",
    "import numpy as np\n",
    "import os\n",
    "import shutil\n",
    "import struct\n",
    "import sys\n",
    "\n",
    "try: \n",
    "    from urllib.request import urlretrieve \n",
    "except ImportError: \n",
    "    from urllib import urlretrieve\n",
    "\n",
    "# Config matplotlib for inline plotting\n",
    "%matplotlib inline"
   ]
  },
  {
   "cell_type": "markdown",
   "metadata": {},
   "source": [
    "## Data Augmentation"
   ]
  },
  {
   "cell_type": "code",
   "execution_count": 12,
   "metadata": {},
   "outputs": [],
   "source": [
    "from PIL import Image, ImageOps"
   ]
  },
  {
   "cell_type": "code",
   "execution_count": 22,
   "metadata": {},
   "outputs": [
    {
     "name": "stdout",
     "output_type": "stream",
     "text": [
      "Wall time: 1min 28s\n"
     ]
    }
   ],
   "source": [
    "%%time\n",
    "import csv\n",
    "count = 0\n",
    "with open('data/train_labels.csv', 'r') as csvfile:\n",
    "    reader = csv.reader(csvfile, delimiter=',', quotechar='|')\n",
    "    for row in reader:\n",
    "        if count > 0:\n",
    "            name = row[0]\n",
    "            img = Image.open('data/train/' + name + '.png')\n",
    "            tmp = img.rotate(90)\n",
    "            tmp.save('data/train_90/' + name + '.png')\n",
    "            tmp = img.rotate(180)\n",
    "            tmp.save('data/train_180/' + name + '.png')\n",
    "            tmp = img.rotate(270)\n",
    "            tmp.save('data/train_270/' + name + '.png')\n",
    "            tmp = ImageOps.flip(img)\n",
    "            tmp.save('data/train_flip/' + name + '.png')\n",
    "            tmp = ImageOps.mirror(img)\n",
    "            tmp.save('data/train_mirror/' + name + '.png')\n",
    "        count = count + 1\n"
   ]
  },
  {
   "cell_type": "code",
   "execution_count": 42,
   "metadata": {},
   "outputs": [],
   "source": [
    "def orient(input, rotate):\n",
    "    new_ori = int(input) + int((rotate / 90))\n",
    "    if new_ori > 3:\n",
    "        new_ori = new_ori - 4\n",
    "    if new_ori < 0:\n",
    "        new_ori = new_ori + 4\n",
    "    return new_ori"
   ]
  },
  {
   "cell_type": "code",
   "execution_count": 40,
   "metadata": {},
   "outputs": [
    {
     "name": "stdout",
     "output_type": "stream",
     "text": [
      "0\n",
      "1\n",
      "2\n",
      "1\n"
     ]
    }
   ],
   "source": [
    "print(orient(3,90))\n",
    "print(orient(3,180))\n",
    "print(orient(3,270))\n",
    "\n",
    "t = 3\n",
    "o = t\n",
    "if (t == 1) or (t == 3):\n",
    "    o = orient(t,180)\n",
    "print(o)"
   ]
  },
  {
   "cell_type": "code",
   "execution_count": 49,
   "metadata": {},
   "outputs": [
    {
     "name": "stdout",
     "output_type": "stream",
     "text": [
      "Creating:  data/Train-64x64x80000_20180718_095800.txt\n",
      "Done.\n",
      "Creating:  data/Test-64x64x20000_20180718_095800.txt\n",
      "Done.\n",
      "Wall time: 8min 22s\n"
     ]
    }
   ],
   "source": [
    "%%time\n",
    "import csv\n",
    "count = 0\n",
    "name = ''\n",
    "ori = 0\n",
    "larray = ['1 0 0 0', '0 1 0 0', '0 0 1 0', '0 0 0 1']\n",
    "label = ''\n",
    "feature = ''\n",
    "output_train = []\n",
    "output_train90 = []\n",
    "output_train180 = []\n",
    "output_train270 = []\n",
    "output_test = []\n",
    "with open('data/train_labels.csv', 'r') as csvfile:\n",
    "    reader = csv.reader(csvfile, delimiter=',', quotechar='|')\n",
    "    for row in reader:\n",
    "        if count > 0:\n",
    "            name = row[0]\n",
    "            ori = int(row[1]) - 1\n",
    "            label = larray[ori]\n",
    "            feature = loadImage('data/train/' + name + '.png')\n",
    "            output_train.append('|labels {} |features {}\\n'.format(label, feature))\n",
    "            label = larray[orient(ori,90)]\n",
    "            feature = loadImage('data/train_90/' + name + '.png')\n",
    "            output_train90.append('|labels {} |features {}\\n'.format(label, feature))\n",
    "            label = larray[orient(ori,180)]\n",
    "            feature = loadImage('data/train_180/' + name + '.png')\n",
    "            output_train180.append('|labels {} |features {}\\n'.format(label, feature))\n",
    "            label = larray[orient(ori,270)]\n",
    "            feature = loadImage('data/train_270/' + name + '.png')\n",
    "            output_train270.append('|labels {} |features {}\\n'.format(label, feature))\n",
    "            t = ori\n",
    "            if (t == 1) or (t == 3):\n",
    "                ori = orient(t,180)\n",
    "            label = larray[ori]\n",
    "            feature = loadImage('data/train_mirror/' + name + '.png')\n",
    "            output_test.append('|labels {} |features {}\\n'.format(label, feature))\n",
    "        count += 1\n",
    "\n",
    "\n",
    "import time\n",
    "import datetime\n",
    "ts = datetime.datetime.fromtimestamp(time.time()).strftime('%Y%m%d_%H%M%S')\n",
    "file_train = 'data/Train-64x64x80000_' + ts + '.txt'\n",
    "file_test = 'data/Test-64x64x20000_' + ts + '.txt'\n",
    "print(\"Creating: \", file_train )\n",
    "with open(file_train, 'w') as f:\n",
    "    for row in output_train:\n",
    "        f.write(row)\n",
    "    for row in output_train90:\n",
    "        f.write(row)\n",
    "    for row in output_train180:\n",
    "        f.write(row)\n",
    "    for row in output_train270:\n",
    "        f.write(row)\n",
    "print(\"Done.\")\n",
    "\n",
    "print(\"Creating: \", file_test )\n",
    "with open(file_test, 'w') as f:\n",
    "    for row in output_test:\n",
    "        f.write(row)\n",
    "    print(\"Done.\")\n"
   ]
  },
  {
   "cell_type": "markdown",
   "metadata": {},
   "source": [
    "## Training data prep"
   ]
  },
  {
   "cell_type": "code",
   "execution_count": 2,
   "metadata": {},
   "outputs": [],
   "source": [
    "import cv2\n",
    "from PIL import Image\n",
    "\n",
    "def loadImage2(filename):\n",
    "    img = Image.open(filename)\n",
    "    pixels = img.load()\n",
    "    img_data = ''\n",
    "    for i in range(img.size[0]):    \n",
    "        for j in range(img.size[1]): \n",
    "            img_data = img_data + ' ' + str(pixels[i,j])\n",
    "    return img_data\n",
    "\n",
    "def loadImage(filename):\n",
    "    img = cv2.imread(filename, cv2.IMREAD_GRAYSCALE)\n",
    "    img_data = ' '.join(str(x) for x in img.flatten().tolist())\n",
    "    return img_data\n"
   ]
  },
  {
   "cell_type": "markdown",
   "metadata": {},
   "source": [
    "from keras.preprocessing.image import img_to_array \n",
    "from sklearn.preprocessing import LabelBinarizer \n",
    "from imutils import paths \n",
    "import random \n",
    "import cv2 \n",
    "import os\n",
    "import numpy as np\n",
    "\n",
    "imagePaths = sorted(list(paths.list_images('C:/Users/dachou/notebooks/DAT264x/data/test-1'))) \n",
    "\n",
    "image = cv2.imread('C:/Users/dachou/notebooks/DAT264x/data/test-1/200000.png', cv2.COLOR_RGB2GRAY) \n",
    "print(image.shape)\n",
    "print(image.dtype)\n",
    "print(image.size)\n",
    "gray_img = cv2.imread('C:/Users/dachou/notebooks/DAT264x/data/test-1/200000.png', cv2.IMREAD_GRAYSCALE)  # grayscale\n",
    "print(gray_img.shape)\n",
    "print(gray_img.dtype)\n",
    "print(gray_img.size)\n",
    "\n",
    "\n",
    "#img = loadImage('C:/Users/dachou/notebooks/DAT264x/data/test-1/200000.png')\n",
    "flat = gray_img.flatten()\n",
    "reshape = flat.reshape(64, 64)\n",
    "cv2string = ' '.join(str(x) for x in flat.tolist())\n",
    "pilstring = loadImage2('data/test-1/200000.png')\n",
    "print(pilstring)\n"
   ]
  },
  {
   "cell_type": "code",
   "execution_count": 3,
   "metadata": {
    "scrolled": false
   },
   "outputs": [
    {
     "name": "stdout",
     "output_type": "stream",
     "text": [
      "Wall time: 32.3 s\n"
     ]
    }
   ],
   "source": [
    "%%time\n",
    "#if os.path.isfile(\"data/train_labels.csv\")\n",
    "import csv\n",
    "count = 0\n",
    "larray = ['1 0 0 0', '0 1 0 0', '0 0 1 0', '0 0 0 1']\n",
    "label = ''\n",
    "feature = ''\n",
    "output = []\n",
    "with open('data/train_labels.csv', 'r') as csvfile:\n",
    "    reader = csv.reader(csvfile, delimiter=',', quotechar='|')\n",
    "    for row in reader:\n",
    "        if count > 0:\n",
    "            label = larray[int(row[1])]\n",
    "            feature = loadImage('C:/Users/dachou/notebooks/DAT264x/data/train/' + row[0] + '.png')\n",
    "            output.append('|labels {} |features {}\\n'.format(label, feature))\n",
    "            #print('({0}) file: {1} label: {2}'.format(count, row[0], row[1]) + ' onehot: ' + label)\n",
    "        count += 1\n"
   ]
  },
  {
   "cell_type": "code",
   "execution_count": 4,
   "metadata": {},
   "outputs": [
    {
     "name": "stdout",
     "output_type": "stream",
     "text": [
      "Saving data/Data-submit-20000_20180720_092205.txt\n",
      "File save complete.\n"
     ]
    }
   ],
   "source": [
    "#Save file\n",
    "import time\n",
    "import datetime\n",
    "filename = 'data/Data-20000_' + datetime.datetime.fromtimestamp(time.time()).strftime('%Y%m%d_%H%M%S') + '.txt'\n",
    "if not os.path.isfile(filename):\n",
    "    print(\"Saving\", filename )\n",
    "    with open(filename, 'w') as f:\n",
    "        for row in output:\n",
    "            f.write(row)\n",
    "    print(\"File save complete.\")\n",
    "else:\n",
    "    print(\"File already exists\", filename)"
   ]
  },
  {
   "cell_type": "markdown",
   "metadata": {},
   "source": [
    "# Test data"
   ]
  },
  {
   "cell_type": "code",
   "execution_count": 88,
   "metadata": {},
   "outputs": [
    {
     "name": "stdout",
     "output_type": "stream",
     "text": [
      "Reading files...\n",
      "Saving data/Test-10_20180720_070801.txt\n",
      "File save complete.\n",
      "Wall time: 31 s\n"
     ]
    }
   ],
   "source": [
    "%%time\n",
    "test_dir = 'data/test'\n",
    "test_files = os.listdir(test_dir)\n",
    "label = '0 0 0 0'\n",
    "feature = ''\n",
    "output = []\n",
    "print(\"Reading files...\")\n",
    "for file in test_files:\n",
    "    feature = loadImage(test_dir + '/' + file)\n",
    "    output.append('|labels {} |features {}\\n'.format(label, feature))\n",
    "\n",
    "import time\n",
    "import datetime\n",
    "filename = 'data/Test-10_' + datetime.datetime.fromtimestamp(time.time()).strftime('%Y%m%d_%H%M%S') + '.txt'\n",
    "if not os.path.isfile(filename):\n",
    "    print(\"Saving\", filename )\n",
    "    with open(filename, 'w') as f:\n",
    "        for row in output:\n",
    "            f.write(row)\n",
    "    print(\"File save complete.\")\n",
    "else:\n",
    "    print(\"File already exists\", filename)"
   ]
  },
  {
   "cell_type": "code",
   "execution_count": null,
   "metadata": {},
   "outputs": [],
   "source": []
  }
 ],
 "metadata": {
  "kernelspec": {
   "display_name": "Python [default]",
   "language": "python",
   "name": "python3"
  },
  "language_info": {
   "codemirror_mode": {
    "name": "ipython",
    "version": 3
   },
   "file_extension": ".py",
   "mimetype": "text/x-python",
   "name": "python",
   "nbconvert_exporter": "python",
   "pygments_lexer": "ipython3",
   "version": "3.6.4"
  }
 },
 "nbformat": 4,
 "nbformat_minor": 2
}
